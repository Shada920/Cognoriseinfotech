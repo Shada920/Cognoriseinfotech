{
  "nbformat": 4,
  "nbformat_minor": 0,
  "metadata": {
    "colab": {
      "provenance": [],
      "authorship_tag": "ABX9TyNT0FOpL/zHN8Jp5CefUjcQ",
      "include_colab_link": true
    },
    "kernelspec": {
      "name": "python3",
      "display_name": "Python 3"
    },
    "language_info": {
      "name": "python"
    }
  },
  "cells": [
    {
      "cell_type": "markdown",
      "metadata": {
        "id": "view-in-github",
        "colab_type": "text"
      },
      "source": [
        "<a href=\"https://colab.research.google.com/github/Shada920/Cognoriseinfotech/blob/main/Untitled4.ipynb\" target=\"_parent\"><img src=\"https://colab.research.google.com/assets/colab-badge.svg\" alt=\"Open In Colab\"/></a>"
      ]
    },
    {
      "cell_type": "code",
      "execution_count": null,
      "metadata": {
        "id": "IPSFDZ6iTRkk"
      },
      "outputs": [],
      "source": [
        " from mpl_toolkits.mplot3d import Axes3D\n",
        " from sklearn.preprocessing import StandardScaler\n",
        " import numpy as np\n",
        " import pandas as pd\n",
        " import matplotlib.pyplot as plt\n",
        " import os\n",
        " df=pd.read_csv(\"/content/Breast cancer.csv\")"
      ]
    },
    {
      "cell_type": "code",
      "source": [
        "for dirname, _,filenames in os.walk('/kaggle/input'):\n",
        "  for filename in filenames:\n",
        "    print(os.path.join(dirname,filename))"
      ],
      "metadata": {
        "id": "DpLkKMR6aLTD"
      },
      "execution_count": null,
      "outputs": []
    },
    {
      "cell_type": "code",
      "source": [
        "def plotpercolumnDistribution(df,nGraphShown,nGraphPerRow):\n",
        "  nunique=df.nunique()\n",
        "  df=df[[col for col in df if nunique[col]>1 and nunique[col]<50]]\n",
        "  nRow, nCol=df.shape\n",
        "  columnNames=list(df)\n",
        "  nGraphRow=(nCol+nGraphPerRow-1)/nGraphPerRow\n",
        "  plt.figure(num=None,figsize=(6*nGraphPerRow,8*nGraphRow),dpi=80,facecolour=\"w\",edgecolour=\"k\")\n",
        "  for i in range(min(nCol,nGraphShown))\n",
        "  plt.subplot(nGraphRow,nGrapgPerRow,1+1)\n",
        "  columnDf=df.iloc[:,1]\n",
        "  if (mot np.issuebdtype(type(columnDf.iloc[0]),np.number)):\n",
        "    valueCounts=ColumnDf.value_Counts()\n",
        "    valueCounts.plot.bar()\n",
        "    else\n",
        "    columnDf.hist()\n",
        "    plt.ylabel('counts')\n",
        "    plt.xticks(rotation=90)\n",
        "    plt.title[]\n"
      ],
      "metadata": {
        "id": "QqVpIK28bhut"
      },
      "execution_count": null,
      "outputs": []
    }
  ]
}